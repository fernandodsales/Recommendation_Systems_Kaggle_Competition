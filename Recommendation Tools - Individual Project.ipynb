{
 "cells": [
  {
   "cell_type": "markdown",
   "id": "1c0dda88",
   "metadata": {},
   "source": [
    "# Recommendation Tools Individual Assignment\n",
    "### Fernando Delgado\n",
    "\n",
    "The following notebook describes a recommendation systems project that is part of a in-class kaggle competition of the following link:\n",
    "\n",
    "https://www.kaggle.com/c/recsys-2022/overview"
   ]
  },
  {
   "cell_type": "markdown",
   "id": "68278ffe",
   "metadata": {},
   "source": [
    "## Introduction"
   ]
  },
  {
   "cell_type": "markdown",
   "id": "b88949e5",
   "metadata": {},
   "source": [
    "A recommender system, or a recommendation system, is a subclass of information filtering system that seeks to predict the \"rating\" or \"preference\" a user would give to an item.\n",
    "\n",
    "For this project, we put our recommendation skills to the test by applying different algorithms to the Amazon review dataset. Then we upload our solution file to Kaggle. "
   ]
  },
  {
   "cell_type": "code",
   "execution_count": 1,
   "id": "12aa3688",
   "metadata": {},
   "outputs": [],
   "source": [
    "wd = \"C:/Users/fdelgado/OneDrive - IESEG/Documents/01. IESEG/16. Recommendation Systems/Individual Project/\""
   ]
  },
  {
   "cell_type": "code",
   "execution_count": 2,
   "id": "d5cd4f3f",
   "metadata": {},
   "outputs": [],
   "source": [
    "#Data manipulation\n",
    "import pandas as pd \n",
    "import numpy as np\n",
    "\n",
    "#Visualization\n",
    "import matplotlib.pyplot as plt\n",
    "\n",
    "#Recommendation Systems\n",
    "import surprise\n",
    "from surprise import Dataset\n",
    "from surprise import Reader\n",
    "from surprise import BaselineOnly\n",
    "from surprise import KNNBasic\n",
    "from surprise import accuracy\n",
    "from surprise import SVD\n",
    "from surprise import SVDpp\n",
    "from surprise import CoClustering\n",
    "from surprise.model_selection import GridSearchCV\n",
    "\n",
    "from IESEGRecSys import eval\n",
    "\n",
    "#Machine Learning\n",
    "import sklearn\n",
    "from sklearn.model_selection import train_test_split"
   ]
  },
  {
   "cell_type": "code",
   "execution_count": 3,
   "id": "13d02c23",
   "metadata": {},
   "outputs": [],
   "source": [
    "train = pd.read_csv(wd+'data/raw/train.csv')\n",
    "metadata = pd.read_csv(wd+'data/raw/metadata.csv')"
   ]
  },
  {
   "cell_type": "markdown",
   "id": "974f84da",
   "metadata": {},
   "source": [
    "## Objective\n",
    "The objective of this project is to fit the best recommendation model for our dataset. To validate our model we want to obtain the lowest RMSE possible. AS a benchmark, we have a RMSE of 1.03 in Kaggle, meaning that anything lower than that value should be sufficient. \n",
    "\n",
    "Thus, I will fit 3 different models and compare them, in order to choose the best one in relation to their RMSE.\n",
    "\n",
    "Root Mean Square Error is the standard deviation of the prediction errors (residuals). RMSE is a measure of how spread out these residuals are. In other words, it tells us how concentrated the data is around the line of best fit. Thus, the lower the RMSE, the better."
   ]
  },
  {
   "cell_type": "markdown",
   "id": "d9fc6df2",
   "metadata": {},
   "source": [
    "## Data Preparation\n",
    "\n",
    "The dataset consists of 2 files: \n",
    "* train: user-item ratings, including review text and additional user data \n",
    "* metadata: additional item data (title, description, image_url)"
   ]
  },
  {
   "cell_type": "markdown",
   "id": "01ea745b",
   "metadata": {},
   "source": [
    "First, we inspect the train dataset:"
   ]
  },
  {
   "cell_type": "code",
   "execution_count": 4,
   "id": "4c872ee1",
   "metadata": {
    "scrolled": true
   },
   "outputs": [
    {
     "data": {
      "text/html": [
       "<div>\n",
       "<style scoped>\n",
       "    .dataframe tbody tr th:only-of-type {\n",
       "        vertical-align: middle;\n",
       "    }\n",
       "\n",
       "    .dataframe tbody tr th {\n",
       "        vertical-align: top;\n",
       "    }\n",
       "\n",
       "    .dataframe thead th {\n",
       "        text-align: right;\n",
       "    }\n",
       "</style>\n",
       "<table border=\"1\" class=\"dataframe\">\n",
       "  <thead>\n",
       "    <tr style=\"text-align: right;\">\n",
       "      <th></th>\n",
       "      <th>userID</th>\n",
       "      <th>overall</th>\n",
       "      <th>asin</th>\n",
       "      <th>vote</th>\n",
       "      <th>reviewText</th>\n",
       "      <th>summary</th>\n",
       "      <th>style</th>\n",
       "      <th>image</th>\n",
       "    </tr>\n",
       "  </thead>\n",
       "  <tbody>\n",
       "    <tr>\n",
       "      <th>0</th>\n",
       "      <td>13527</td>\n",
       "      <td>5.0</td>\n",
       "      <td>B0002565TI</td>\n",
       "      <td>NaN</td>\n",
       "      <td>These filters used to be sold at PetCo, but no...</td>\n",
       "      <td>Great Place to Get Filte-rs</td>\n",
       "      <td>NaN</td>\n",
       "      <td>NaN</td>\n",
       "    </tr>\n",
       "    <tr>\n",
       "      <th>1</th>\n",
       "      <td>14608</td>\n",
       "      <td>2.0</td>\n",
       "      <td>B0002H3ZLM</td>\n",
       "      <td>NaN</td>\n",
       "      <td>Did not work for my large- does. Returned it.</td>\n",
       "      <td>T#wo Stars</td>\n",
       "      <td>{'Size:': ' LARGE 60-130 LBS.', 'Color:': ' BL...</td>\n",
       "      <td>NaN</td>\n",
       "    </tr>\n",
       "    <tr>\n",
       "      <th>2</th>\n",
       "      <td>15536</td>\n",
       "      <td>5.0</td>\n",
       "      <td>B0009YD8OC</td>\n",
       "      <td>NaN</td>\n",
       "      <td>I was pretty skeptical that this would be easy...</td>\n",
       "      <td>stops pulling in a 6 month 60{ pound pup great!</td>\n",
       "      <td>NaN</td>\n",
       "      <td>NaN</td>\n",
       "    </tr>\n",
       "    <tr>\n",
       "      <th>3</th>\n",
       "      <td>12868</td>\n",
       "      <td>5.0</td>\n",
       "      <td>B001VPA9OK</td>\n",
       "      <td>NaN</td>\n",
       "      <td>Works great for groom-ing my dog. A must have.</td>\n",
       "      <td>Five /Stars</td>\n",
       "      <td>{'Color:': ' Silver'}</td>\n",
       "      <td>NaN</td>\n",
       "    </tr>\n",
       "    <tr>\n",
       "      <th>4</th>\n",
       "      <td>181</td>\n",
       "      <td>5.0</td>\n",
       "      <td>B000K67UF2</td>\n",
       "      <td>NaN</td>\n",
       "      <td>Great cage for budgies! I cant say enough marv...</td>\n",
       "      <td>Great cage for budg{ies</td>\n",
       "      <td>{'Size:': ' Medium', 'Pattern:': ' MO2 Cage'}</td>\n",
       "      <td>NaN</td>\n",
       "    </tr>\n",
       "  </tbody>\n",
       "</table>\n",
       "</div>"
      ],
      "text/plain": [
       "   userID  overall        asin vote  \\\n",
       "0   13527      5.0  B0002565TI  NaN   \n",
       "1   14608      2.0  B0002H3ZLM  NaN   \n",
       "2   15536      5.0  B0009YD8OC  NaN   \n",
       "3   12868      5.0  B001VPA9OK  NaN   \n",
       "4     181      5.0  B000K67UF2  NaN   \n",
       "\n",
       "                                          reviewText  \\\n",
       "0  These filters used to be sold at PetCo, but no...   \n",
       "1      Did not work for my large- does. Returned it.   \n",
       "2  I was pretty skeptical that this would be easy...   \n",
       "3     Works great for groom-ing my dog. A must have.   \n",
       "4  Great cage for budgies! I cant say enough marv...   \n",
       "\n",
       "                                           summary  \\\n",
       "0                      Great Place to Get Filte-rs   \n",
       "1                                       T#wo Stars   \n",
       "2  stops pulling in a 6 month 60{ pound pup great!   \n",
       "3                                      Five /Stars   \n",
       "4                          Great cage for budg{ies   \n",
       "\n",
       "                                               style image  \n",
       "0                                                NaN   NaN  \n",
       "1  {'Size:': ' LARGE 60-130 LBS.', 'Color:': ' BL...   NaN  \n",
       "2                                                NaN   NaN  \n",
       "3                              {'Color:': ' Silver'}   NaN  \n",
       "4      {'Size:': ' Medium', 'Pattern:': ' MO2 Cage'}   NaN  "
      ]
     },
     "execution_count": 4,
     "metadata": {},
     "output_type": "execute_result"
    }
   ],
   "source": [
    "train.head()"
   ]
  },
  {
   "cell_type": "markdown",
   "id": "f68abf15",
   "metadata": {},
   "source": [
    "We can visualize how many times an item has been reviewd on average with the following histogram:"
   ]
  },
  {
   "cell_type": "code",
   "execution_count": 5,
   "id": "fe1f09dd",
   "metadata": {
    "scrolled": true
   },
   "outputs": [
    {
     "data": {
      "text/plain": [
       "<matplotlib.legend.Legend at 0x1eebf2a0700>"
      ]
     },
     "execution_count": 5,
     "metadata": {},
     "output_type": "execute_result"
    },
    {
     "data": {
      "image/png": "[encoded data removed]",
      "text/plain": [
       "<Figure size 432x288 with 1 Axes>"
      ]
     },
     "metadata": {
      "needs_background": "light"
     },
     "output_type": "display_data"
    }
   ],
   "source": [
    "# average number of reviews per item\n",
    "reviews_item = train.groupby('asin').agg({'overall':'count'})\n",
    "\n",
    "#histogram\n",
    "reviews_item.clip(upper=1000).hist(bins=40)\n",
    "\n",
    "plt.axvline(x=reviews_item.mean().item(), label=f\"Mean reviews per Item is {reviews_item.mean().item():.1f}\", c=\"k\")\n",
    "plt.axvline(x=reviews_item.median().item(), label=f\"Median reviews per Item is {reviews_item.median().item():.1f}\", c=\"r\")\n",
    "plt.legend()"
   ]
  },
  {
   "cell_type": "markdown",
   "id": "d1b63748",
   "metadata": {},
   "source": [
    "Given that our items have an average number of 70 reviews, we decide to filter out all of those items that have been reviewed less than 10 times as it may bias our models."
   ]
  },
  {
   "cell_type": "code",
   "execution_count": 6,
   "id": "31c9a03a",
   "metadata": {
    "scrolled": true
   },
   "outputs": [
    {
     "name": "stdout",
     "output_type": "stream",
     "text": [
      "Removed 85 items\n"
     ]
    }
   ],
   "source": [
    "# filter items with 10+ ratings\n",
    "ratings_count = train[\"asin\"].value_counts()\n",
    "min_count = 10\n",
    "items_filter = list(ratings_count[ratings_count >= min_count].index)\n",
    "train = train[train[\"asin\"].isin(items_filter)].reset_index(drop=True)\n",
    "\n",
    "print(f\"Removed {len(ratings_count) - (ratings_count > min_count).sum()} items\")"
   ]
  },
  {
   "cell_type": "markdown",
   "id": "6bc5bf02",
   "metadata": {},
   "source": [
    "Moreover, we do the same visualization for ratings per user and filter out all of those users with less than 3 ratings witin the dataset. "
   ]
  },
  {
   "cell_type": "code",
   "execution_count": 7,
   "id": "976c08b8",
   "metadata": {},
   "outputs": [
    {
     "data": {
      "text/plain": [
       "<matplotlib.legend.Legend at 0x1eebf2a0760>"
      ]
     },
     "execution_count": 7,
     "metadata": {},
     "output_type": "execute_result"
    },
    {
     "data": {
      "image/png": "[encoded data removed]",
      "text/plain": [
       "<Figure size 432x288 with 1 Axes>"
      ]
     },
     "metadata": {
      "needs_background": "light"
     },
     "output_type": "display_data"
    }
   ],
   "source": [
    "# average number of items rated by users\n",
    "reviews_user = train.groupby('userID').agg({'overall':'count'})\n",
    "\n",
    "#histogram\n",
    "reviews_user.clip(upper=40).hist(bins=20)\n",
    "\n",
    "plt.axvline(x=reviews_user.mean().item(), label=f\"Mean reviews per User is {reviews_user.mean().item():.1f}\", c=\"k\")\n",
    "plt.axvline(x=reviews_user.median().item(), label=f\"Median reviews per User {reviews_user.median().item():.1f}\", c=\"r\")\n",
    "plt.legend()"
   ]
  },
  {
   "cell_type": "code",
   "execution_count": 8,
   "id": "04598243",
   "metadata": {
    "scrolled": true
   },
   "outputs": [
    {
     "name": "stdout",
     "output_type": "stream",
     "text": [
      "Removed 3503 users\n"
     ]
    }
   ],
   "source": [
    "# filter users with 5+ ratings\n",
    "ratings_count = train[\"userID\"].value_counts()\n",
    "min_count = 3\n",
    "users_filter = list(ratings_count[ratings_count >= min_count].index)\n",
    "train = train[train[\"userID\"].isin(users_filter)].reset_index(drop=True)\n",
    "\n",
    "print(f\"Removed {len(ratings_count) - (ratings_count > min_count).sum()} users\")"
   ]
  },
  {
   "cell_type": "markdown",
   "id": "5a447108",
   "metadata": {},
   "source": [
    "Finally, in order to run our collaborative filtering models, we need a table with only 3 columns: UserID, item(asin) and rating(overall)."
   ]
  },
  {
   "cell_type": "code",
   "execution_count": 9,
   "id": "e78c9a95",
   "metadata": {},
   "outputs": [
    {
     "data": {
      "text/html": [
       "<div>\n",
       "<style scoped>\n",
       "    .dataframe tbody tr th:only-of-type {\n",
       "        vertical-align: middle;\n",
       "    }\n",
       "\n",
       "    .dataframe tbody tr th {\n",
       "        vertical-align: top;\n",
       "    }\n",
       "\n",
       "    .dataframe thead th {\n",
       "        text-align: right;\n",
       "    }\n",
       "</style>\n",
       "<table border=\"1\" class=\"dataframe\">\n",
       "  <thead>\n",
       "    <tr style=\"text-align: right;\">\n",
       "      <th></th>\n",
       "      <th>userID</th>\n",
       "      <th>asin</th>\n",
       "      <th>overall</th>\n",
       "    </tr>\n",
       "  </thead>\n",
       "  <tbody>\n",
       "    <tr>\n",
       "      <th>0</th>\n",
       "      <td>13527</td>\n",
       "      <td>B0002565TI</td>\n",
       "      <td>5.0</td>\n",
       "    </tr>\n",
       "    <tr>\n",
       "      <th>1</th>\n",
       "      <td>14608</td>\n",
       "      <td>B0002H3ZLM</td>\n",
       "      <td>2.0</td>\n",
       "    </tr>\n",
       "    <tr>\n",
       "      <th>2</th>\n",
       "      <td>15536</td>\n",
       "      <td>B0009YD8OC</td>\n",
       "      <td>5.0</td>\n",
       "    </tr>\n",
       "    <tr>\n",
       "      <th>3</th>\n",
       "      <td>12868</td>\n",
       "      <td>B001VPA9OK</td>\n",
       "      <td>5.0</td>\n",
       "    </tr>\n",
       "    <tr>\n",
       "      <th>4</th>\n",
       "      <td>181</td>\n",
       "      <td>B000K67UF2</td>\n",
       "      <td>5.0</td>\n",
       "    </tr>\n",
       "  </tbody>\n",
       "</table>\n",
       "</div>"
      ],
      "text/plain": [
       "   userID        asin  overall\n",
       "0   13527  B0002565TI      5.0\n",
       "1   14608  B0002H3ZLM      2.0\n",
       "2   15536  B0009YD8OC      5.0\n",
       "3   12868  B001VPA9OK      5.0\n",
       "4     181  B000K67UF2      5.0"
      ]
     },
     "execution_count": 9,
     "metadata": {},
     "output_type": "execute_result"
    }
   ],
   "source": [
    "train = train[['userID', 'asin', 'overall']]\n",
    "train.head()"
   ]
  },
  {
   "cell_type": "markdown",
   "id": "be6df6eb",
   "metadata": {},
   "source": [
    "### Train/Test Split"
   ]
  },
  {
   "cell_type": "markdown",
   "id": "8c6d998c",
   "metadata": {},
   "source": [
    "Moving forward, before fitting any model,we split our train dataset into another train and test split, following a 70/30 ratio. Then we apply reader from surprise package in order to run our collaborative filtering models."
   ]
  },
  {
   "cell_type": "code",
   "execution_count": 10,
   "id": "6c79109e",
   "metadata": {},
   "outputs": [],
   "source": [
    "# train-test split\n",
    "train, test = train_test_split(train, test_size=0.3)\n",
    "\n",
    "reader = Reader(rating_scale=(1, 5))\n",
    "df_train = Dataset.load_from_df(train, reader).build_full_trainset()\n",
    "df_test = list(test.itertuples(index=False, name=None))"
   ]
  },
  {
   "cell_type": "markdown",
   "id": "af25a2f2",
   "metadata": {},
   "source": [
    "## Collaborative Filtering Models"
   ]
  },
  {
   "cell_type": "markdown",
   "id": "195449ce",
   "metadata": {},
   "source": [
    "Collaborative Filtering does not need the features of the items to be specified, it simply works with the user id, artist id, and the particular rating. When it creates a recommendation, it considers another user’s input to recommend another particular user. For example, if a user A has similar behavior than user B, then it is likely that the things that user A likes, will be enjoyed by user B.\n",
    "\n",
    "There are many different types of collaborative filtering methods, but for this project we will run 4:\n",
    "* Cosine User-based\n",
    "* ALS\n",
    "* SVD\n",
    "* SVD++"
   ]
  },
  {
   "cell_type": "markdown",
   "id": "9118fe6c",
   "metadata": {},
   "source": [
    "### User-Based\n",
    "User-based collaborative filtering works by estimating a user’s rating based on a similar set of users who have a similar behavior as our target user. The simple approach would be to make an average of other similar users on given product and assign it to our prediction target.\n",
    "\n",
    "On the options we specify a cosine user-based model with a standard of 20 most similar users with a minumum of 5. "
   ]
  },
  {
   "cell_type": "code",
   "execution_count": 11,
   "id": "3c0933db",
   "metadata": {
    "scrolled": true
   },
   "outputs": [
    {
     "name": "stdout",
     "output_type": "stream",
     "text": [
      "Computing the cosine similarity matrix...\n",
      "Done computing similarity matrix.\n"
     ]
    },
    {
     "data": {
      "text/plain": [
       "<surprise.prediction_algorithms.knns.KNNBasic at 0x1eebf2baf70>"
      ]
     },
     "execution_count": 11,
     "metadata": {},
     "output_type": "execute_result"
    }
   ],
   "source": [
    "# set option to cosine similarity and user-based collaborative filtering\n",
    "options = {'name':'cosine', 'user_based':True}\n",
    "\n",
    "# select 20 most similar users (min 5)\n",
    "ub = KNNBasic(k=20, min_k=5, sim_options=options, random_state=42)\n",
    "\n",
    "# fit on training set\n",
    "ub.fit(df_train)"
   ]
  },
  {
   "cell_type": "markdown",
   "id": "221d3698",
   "metadata": {},
   "source": [
    "Once the model is fitted, we evaluate our prediction on or test split and end up with our first RMSE "
   ]
  },
  {
   "cell_type": "code",
   "execution_count": 12,
   "id": "3a00c4d5",
   "metadata": {},
   "outputs": [
    {
     "name": "stdout",
     "output_type": "stream",
     "text": [
      "RMSE: 1.1571\n",
      "Impossible: 0.5629\n"
     ]
    }
   ],
   "source": [
    "#Evaluate Test Set\n",
    "pred = ub.test(df_test)\n",
    "accuracy.rmse(pred)\n",
    "\n",
    "# percentage impossible predictions\n",
    "perc_impossible = np.sum([1 for i in pred if i.details[\"was_impossible\"]]) / len(pred)\n",
    "print(f\"Impossible: {perc_impossible:.4f}\")"
   ]
  },
  {
   "cell_type": "code",
   "execution_count": 13,
   "id": "ebc113a7",
   "metadata": {},
   "outputs": [
    {
     "name": "stdout",
     "output_type": "stream",
     "text": [
      "Excluded 26743 (47511) samples. 20768 remaining ...\n",
      "Excluded 26743 (47511) samples. 20768 remaining ...\n"
     ]
    },
    {
     "data": {
      "text/html": [
       "<div>\n",
       "<style scoped>\n",
       "    .dataframe tbody tr th:only-of-type {\n",
       "        vertical-align: middle;\n",
       "    }\n",
       "\n",
       "    .dataframe tbody tr th {\n",
       "        vertical-align: top;\n",
       "    }\n",
       "\n",
       "    .dataframe thead th {\n",
       "        text-align: right;\n",
       "    }\n",
       "</style>\n",
       "<table border=\"1\" class=\"dataframe\">\n",
       "  <thead>\n",
       "    <tr style=\"text-align: right;\">\n",
       "      <th></th>\n",
       "      <th>cosine_userbased</th>\n",
       "    </tr>\n",
       "  </thead>\n",
       "  <tbody>\n",
       "    <tr>\n",
       "      <th>RMSE</th>\n",
       "      <td>1.123548</td>\n",
       "    </tr>\n",
       "    <tr>\n",
       "      <th>MAE</th>\n",
       "      <td>0.826690</td>\n",
       "    </tr>\n",
       "    <tr>\n",
       "      <th>Recall</th>\n",
       "      <td>0.855558</td>\n",
       "    </tr>\n",
       "    <tr>\n",
       "      <th>Precision</th>\n",
       "      <td>0.839475</td>\n",
       "    </tr>\n",
       "    <tr>\n",
       "      <th>F1</th>\n",
       "      <td>0.847440</td>\n",
       "    </tr>\n",
       "    <tr>\n",
       "      <th>NDCG@5</th>\n",
       "      <td>0.920382</td>\n",
       "    </tr>\n",
       "  </tbody>\n",
       "</table>\n",
       "</div>"
      ],
      "text/plain": [
       "           cosine_userbased\n",
       "RMSE               1.123548\n",
       "MAE                0.826690\n",
       "Recall             0.855558\n",
       "Precision          0.839475\n",
       "F1                 0.847440\n",
       "NDCG@5             0.920382"
      ]
     },
     "execution_count": 13,
     "metadata": {},
     "output_type": "execute_result"
    }
   ],
   "source": [
    "userbased_eval = eval.evaluate(prediction=pred, topn=5, rating_cutoff=4, excl_impossible=True)\n",
    "\n",
    "#Rename column \n",
    "userbased_col = userbased_eval.rename(columns={\"value\": \"cosine_userbased\"})\n",
    "userbased_col"
   ]
  },
  {
   "cell_type": "markdown",
   "id": "27287762",
   "metadata": {},
   "source": [
    "# ALS\n",
    "Alternating Least Squares is a model that based on matrix factorization. It used a Weighted-Lambda-Regularization. It factors the 3 following matrices: The user to item, item to feature and user to feature matrix. The goal is to understand the factors that define the user to item ratings. It will then find an optimal factor weight to reduce to the minimum the least squares.\n",
    "\n",
    "In this example we run a simple ALS with 30 epochs:"
   ]
  },
  {
   "cell_type": "code",
   "execution_count": 14,
   "id": "648aa07f",
   "metadata": {},
   "outputs": [
    {
     "name": "stdout",
     "output_type": "stream",
     "text": [
      "Estimating biases using als...\n",
      "RMSE: 1.0900\n",
      "Impossible: 0.0000\n"
     ]
    }
   ],
   "source": [
    "options = {\"method\": \"als\", \"n_epochs\": 30}\n",
    "als = BaselineOnly(bsl_options=options)\n",
    "\n",
    "# fit on training set\n",
    "als.fit(df_train)\n",
    "\n",
    "pred = als.test(df_test)\n",
    "accuracy.rmse(pred)\n",
    "\n",
    "# percentage impossible predictions\n",
    "perc_impossible = np.sum([1 for i in pred if i.details[\"was_impossible\"]]) / len(pred)\n",
    "print(f\"Impossible: {perc_impossible:.4f}\")"
   ]
  },
  {
   "cell_type": "code",
   "execution_count": 15,
   "id": "7191ce87",
   "metadata": {
    "scrolled": false
   },
   "outputs": [
    {
     "name": "stdout",
     "output_type": "stream",
     "text": [
      "Excluded 0 (47511) samples. 47511 remaining ...\n",
      "Excluded 0 (47511) samples. 47511 remaining ...\n"
     ]
    },
    {
     "data": {
      "text/html": [
       "<div>\n",
       "<style scoped>\n",
       "    .dataframe tbody tr th:only-of-type {\n",
       "        vertical-align: middle;\n",
       "    }\n",
       "\n",
       "    .dataframe tbody tr th {\n",
       "        vertical-align: top;\n",
       "    }\n",
       "\n",
       "    .dataframe thead th {\n",
       "        text-align: right;\n",
       "    }\n",
       "</style>\n",
       "<table border=\"1\" class=\"dataframe\">\n",
       "  <thead>\n",
       "    <tr style=\"text-align: right;\">\n",
       "      <th></th>\n",
       "      <th>als</th>\n",
       "    </tr>\n",
       "  </thead>\n",
       "  <tbody>\n",
       "    <tr>\n",
       "      <th>RMSE</th>\n",
       "      <td>1.090019</td>\n",
       "    </tr>\n",
       "    <tr>\n",
       "      <th>MAE</th>\n",
       "      <td>0.821239</td>\n",
       "    </tr>\n",
       "    <tr>\n",
       "      <th>Recall</th>\n",
       "      <td>0.895110</td>\n",
       "    </tr>\n",
       "    <tr>\n",
       "      <th>Precision</th>\n",
       "      <td>0.848024</td>\n",
       "    </tr>\n",
       "    <tr>\n",
       "      <th>F1</th>\n",
       "      <td>0.870931</td>\n",
       "    </tr>\n",
       "    <tr>\n",
       "      <th>NDCG@5</th>\n",
       "      <td>0.880785</td>\n",
       "    </tr>\n",
       "  </tbody>\n",
       "</table>\n",
       "</div>"
      ],
      "text/plain": [
       "                als\n",
       "RMSE       1.090019\n",
       "MAE        0.821239\n",
       "Recall     0.895110\n",
       "Precision  0.848024\n",
       "F1         0.870931\n",
       "NDCG@5     0.880785"
      ]
     },
     "execution_count": 15,
     "metadata": {},
     "output_type": "execute_result"
    }
   ],
   "source": [
    "als_eval = eval.evaluate(prediction=pred, topn=5, rating_cutoff=4, excl_impossible=True)\n",
    "als_col = als_eval.rename(columns={\"value\": \"als\"})\n",
    "als_col"
   ]
  },
  {
   "cell_type": "markdown",
   "id": "8476ff06",
   "metadata": {},
   "source": [
    "# SVD\n",
    "\n",
    "Singular Value Decomposition uses dimension reduction by using matrix decomposition. The SVD’s purpose is to propose multivariate data analysis. This simplifies the data, removes noise but can also be used to improve algorithm results. \n",
    "\n",
    "In this particular model we run a standar SVD model with 20 factors:"
   ]
  },
  {
   "cell_type": "code",
   "execution_count": 16,
   "id": "3c5bf14a",
   "metadata": {},
   "outputs": [
    {
     "name": "stdout",
     "output_type": "stream",
     "text": [
      "RMSE: 1.0829\n",
      "Impossible: 0.0000\n"
     ]
    }
   ],
   "source": [
    "# select 20 factors and use probabilistic matrix factorization (no bias)\n",
    "svd = SVD(n_factors=20, random_state=42)\n",
    "\n",
    "# fit on training set\n",
    "svd.fit(df_train)\n",
    "\n",
    "pred = svd.test(df_test)\n",
    "accuracy.rmse(pred)\n",
    "\n",
    "# percentage impossible predictions\n",
    "perc_impossible = np.sum([1 for i in pred if i.details[\"was_impossible\"]]) / len(pred)\n",
    "print(f\"Impossible: {perc_impossible:.4f}\")"
   ]
  },
  {
   "cell_type": "code",
   "execution_count": 17,
   "id": "48c94524",
   "metadata": {},
   "outputs": [
    {
     "name": "stdout",
     "output_type": "stream",
     "text": [
      "Excluded 0 (47511) samples. 47511 remaining ...\n",
      "Excluded 0 (47511) samples. 47511 remaining ...\n"
     ]
    },
    {
     "data": {
      "text/html": [
       "<div>\n",
       "<style scoped>\n",
       "    .dataframe tbody tr th:only-of-type {\n",
       "        vertical-align: middle;\n",
       "    }\n",
       "\n",
       "    .dataframe tbody tr th {\n",
       "        vertical-align: top;\n",
       "    }\n",
       "\n",
       "    .dataframe thead th {\n",
       "        text-align: right;\n",
       "    }\n",
       "</style>\n",
       "<table border=\"1\" class=\"dataframe\">\n",
       "  <thead>\n",
       "    <tr style=\"text-align: right;\">\n",
       "      <th></th>\n",
       "      <th>svd</th>\n",
       "    </tr>\n",
       "  </thead>\n",
       "  <tbody>\n",
       "    <tr>\n",
       "      <th>RMSE</th>\n",
       "      <td>1.082948</td>\n",
       "    </tr>\n",
       "    <tr>\n",
       "      <th>MAE</th>\n",
       "      <td>0.802318</td>\n",
       "    </tr>\n",
       "    <tr>\n",
       "      <th>Recall</th>\n",
       "      <td>0.855912</td>\n",
       "    </tr>\n",
       "    <tr>\n",
       "      <th>Precision</th>\n",
       "      <td>0.858177</td>\n",
       "    </tr>\n",
       "    <tr>\n",
       "      <th>F1</th>\n",
       "      <td>0.857043</td>\n",
       "    </tr>\n",
       "    <tr>\n",
       "      <th>NDCG@5</th>\n",
       "      <td>0.880782</td>\n",
       "    </tr>\n",
       "  </tbody>\n",
       "</table>\n",
       "</div>"
      ],
      "text/plain": [
       "                svd\n",
       "RMSE       1.082948\n",
       "MAE        0.802318\n",
       "Recall     0.855912\n",
       "Precision  0.858177\n",
       "F1         0.857043\n",
       "NDCG@5     0.880782"
      ]
     },
     "execution_count": 17,
     "metadata": {},
     "output_type": "execute_result"
    }
   ],
   "source": [
    "svd_eval = eval.evaluate(prediction=pred, topn=5, rating_cutoff=4, excl_impossible=True)\n",
    "svd_col = svd_eval.rename(columns={\"value\": \"svd\"})\n",
    "svd_col"
   ]
  },
  {
   "cell_type": "markdown",
   "id": "fb3468cb",
   "metadata": {},
   "source": [
    "### SVD++\n",
    "\n",
    "Reading into surprise's documentation, we run a small variation to SVD named SVD++ that runs slower but usually finds slightly better results than the normal SVD.\n",
    "\n",
    "The way to interpret SVD++ is that it is including the effect of the \"implicit\" information. By understanding that a user rates an item is in itself an indication of preference. In other words, chances that the user \"likes\" an item the user has rated are higher than for a random not-rated item. \n"
   ]
  },
  {
   "cell_type": "code",
   "execution_count": 19,
   "id": "68eaca2e",
   "metadata": {},
   "outputs": [
    {
     "name": "stdout",
     "output_type": "stream",
     "text": [
      "RMSE: 1.0649\n",
      "Impossible: 0.0000\n"
     ]
    }
   ],
   "source": [
    "svdpp = SVDpp(n_factors=200 ,\n",
    "         n_epochs = 150, \n",
    "         lr_all = 0.01, \n",
    "         reg_all = 0.1, \n",
    "         random_state=42)\n",
    "\n",
    "# fit on training set\n",
    "svdpp.fit(df_train)\n",
    "\n",
    "svdpp_pred = svdpp.test(df_test)\n",
    "accuracy.rmse(svdpp_pred)\n",
    "\n",
    "# impossible predictions\n",
    "perc_impossible = np.sum([1 for i in svdpp_pred if i.details[\"was_impossible\"]]) / len(svdpp_pred)\n",
    "print(f\"Impossible: {perc_impossible:.4f}\")"
   ]
  },
  {
   "cell_type": "code",
   "execution_count": 20,
   "id": "003acd43",
   "metadata": {},
   "outputs": [
    {
     "name": "stdout",
     "output_type": "stream",
     "text": [
      "Excluded 0 (47511) samples. 47511 remaining ...\n",
      "Excluded 0 (47511) samples. 47511 remaining ...\n"
     ]
    },
    {
     "data": {
      "text/html": [
       "<div>\n",
       "<style scoped>\n",
       "    .dataframe tbody tr th:only-of-type {\n",
       "        vertical-align: middle;\n",
       "    }\n",
       "\n",
       "    .dataframe tbody tr th {\n",
       "        vertical-align: top;\n",
       "    }\n",
       "\n",
       "    .dataframe thead th {\n",
       "        text-align: right;\n",
       "    }\n",
       "</style>\n",
       "<table border=\"1\" class=\"dataframe\">\n",
       "  <thead>\n",
       "    <tr style=\"text-align: right;\">\n",
       "      <th></th>\n",
       "      <th>svdpp</th>\n",
       "    </tr>\n",
       "  </thead>\n",
       "  <tbody>\n",
       "    <tr>\n",
       "      <th>RMSE</th>\n",
       "      <td>1.082948</td>\n",
       "    </tr>\n",
       "    <tr>\n",
       "      <th>MAE</th>\n",
       "      <td>0.802318</td>\n",
       "    </tr>\n",
       "    <tr>\n",
       "      <th>Recall</th>\n",
       "      <td>0.855912</td>\n",
       "    </tr>\n",
       "    <tr>\n",
       "      <th>Precision</th>\n",
       "      <td>0.858177</td>\n",
       "    </tr>\n",
       "    <tr>\n",
       "      <th>F1</th>\n",
       "      <td>0.857043</td>\n",
       "    </tr>\n",
       "    <tr>\n",
       "      <th>NDCG@5</th>\n",
       "      <td>0.880782</td>\n",
       "    </tr>\n",
       "  </tbody>\n",
       "</table>\n",
       "</div>"
      ],
      "text/plain": [
       "              svdpp\n",
       "RMSE       1.082948\n",
       "MAE        0.802318\n",
       "Recall     0.855912\n",
       "Precision  0.858177\n",
       "F1         0.857043\n",
       "NDCG@5     0.880782"
      ]
     },
     "execution_count": 20,
     "metadata": {},
     "output_type": "execute_result"
    }
   ],
   "source": [
    "svdpp_eval = eval.evaluate(prediction=pred, topn=5, rating_cutoff=4, excl_impossible=True)\n",
    "svdpp_col = svdpp_eval.rename(columns={\"value\": \"svdpp\"})\n",
    "svdpp_col"
   ]
  },
  {
   "cell_type": "markdown",
   "id": "a32607ad",
   "metadata": {},
   "source": [
    "### Overview"
   ]
  },
  {
   "cell_type": "markdown",
   "id": "5fce2e6f",
   "metadata": {},
   "source": [
    "After running our 4 different models, we create an overview table to compare. In this case, we focus on the RMSE scores since it's our main target for the Kaggle competition. SVD and SVD++ are our best fit. They are both close to the benchmark of 1.03 but still need some work. "
   ]
  },
  {
   "cell_type": "code",
   "execution_count": 21,
   "id": "3a93a741",
   "metadata": {},
   "outputs": [
    {
     "data": {
      "text/html": [
       "<div>\n",
       "<style scoped>\n",
       "    .dataframe tbody tr th:only-of-type {\n",
       "        vertical-align: middle;\n",
       "    }\n",
       "\n",
       "    .dataframe tbody tr th {\n",
       "        vertical-align: top;\n",
       "    }\n",
       "\n",
       "    .dataframe thead th {\n",
       "        text-align: right;\n",
       "    }\n",
       "</style>\n",
       "<table border=\"1\" class=\"dataframe\">\n",
       "  <thead>\n",
       "    <tr style=\"text-align: right;\">\n",
       "      <th></th>\n",
       "      <th>cosine_userbased</th>\n",
       "      <th>svd</th>\n",
       "      <th>als</th>\n",
       "      <th>svdpp</th>\n",
       "    </tr>\n",
       "  </thead>\n",
       "  <tbody>\n",
       "    <tr>\n",
       "      <th>RMSE</th>\n",
       "      <td>1.123548</td>\n",
       "      <td>1.082948</td>\n",
       "      <td>1.090019</td>\n",
       "      <td>1.082948</td>\n",
       "    </tr>\n",
       "    <tr>\n",
       "      <th>MAE</th>\n",
       "      <td>0.826690</td>\n",
       "      <td>0.802318</td>\n",
       "      <td>0.821239</td>\n",
       "      <td>0.802318</td>\n",
       "    </tr>\n",
       "    <tr>\n",
       "      <th>Recall</th>\n",
       "      <td>0.855558</td>\n",
       "      <td>0.855912</td>\n",
       "      <td>0.895110</td>\n",
       "      <td>0.855912</td>\n",
       "    </tr>\n",
       "    <tr>\n",
       "      <th>Precision</th>\n",
       "      <td>0.839475</td>\n",
       "      <td>0.858177</td>\n",
       "      <td>0.848024</td>\n",
       "      <td>0.858177</td>\n",
       "    </tr>\n",
       "    <tr>\n",
       "      <th>F1</th>\n",
       "      <td>0.847440</td>\n",
       "      <td>0.857043</td>\n",
       "      <td>0.870931</td>\n",
       "      <td>0.857043</td>\n",
       "    </tr>\n",
       "    <tr>\n",
       "      <th>NDCG@5</th>\n",
       "      <td>0.920382</td>\n",
       "      <td>0.880782</td>\n",
       "      <td>0.880785</td>\n",
       "      <td>0.880782</td>\n",
       "    </tr>\n",
       "  </tbody>\n",
       "</table>\n",
       "</div>"
      ],
      "text/plain": [
       "           cosine_userbased       svd       als     svdpp\n",
       "RMSE               1.123548  1.082948  1.090019  1.082948\n",
       "MAE                0.826690  0.802318  0.821239  0.802318\n",
       "Recall             0.855558  0.855912  0.895110  0.855912\n",
       "Precision          0.839475  0.858177  0.848024  0.858177\n",
       "F1                 0.847440  0.857043  0.870931  0.857043\n",
       "NDCG@5             0.920382  0.880782  0.880785  0.880782"
      ]
     },
     "execution_count": 21,
     "metadata": {},
     "output_type": "execute_result"
    }
   ],
   "source": [
    "overview = pd.concat([userbased_col, svd_col, als_col, svdpp_col], axis=1)\n",
    "overview"
   ]
  },
  {
   "cell_type": "markdown",
   "id": "e682929e",
   "metadata": {},
   "source": [
    "## Param Grid to Improve RMSE"
   ]
  },
  {
   "cell_type": "markdown",
   "id": "13ad42e7",
   "metadata": {},
   "source": [
    "On all of the methods above, we ran very standard parameters for each model but, they can be improved by assigning different parameters to each one of them to get the best possible results. \n",
    "\n",
    "In this case, we run a SVD, SVD++, and ALS parameter grid to find the best parameters. In essence, it runs the same model several times with all of the possible combinations of parameters to obtain the best fit. Depending on how many parameters we specify, it may take up to several hours to complete. "
   ]
  },
  {
   "cell_type": "markdown",
   "id": "f6aa797f",
   "metadata": {},
   "source": [
    "### SVD param grid\n",
    "Warning: this code may take up to +5 hours to run depending on how many parameters we specify:"
   ]
  },
  {
   "cell_type": "code",
   "execution_count": 22,
   "id": "6ae748b8",
   "metadata": {},
   "outputs": [
    {
     "name": "stdout",
     "output_type": "stream",
     "text": [
      "{'n_factors': 250, 'n_epochs': 100, 'lr_all': 0.01, 'reg_all': 0.1}\n",
      "1.0856310783822753\n"
     ]
    }
   ],
   "source": [
    "#df_auto = Dataset.load_from_df(train, reader)\n",
    "\n",
    "#param_grid = {'n_factors': [50,100,200,250], \n",
    "#              'n_epochs':[20,100,150,250], \n",
    "#              'lr_all':[0.005,0.01],\n",
    "#              'reg_all':[0.1,0.2,0.5]}\n",
    "\n",
    "#gs = GridSearchCV(SVD, param_grid, measures=['rmse'], cv=3, refit=True)\n",
    "\n",
    "#gs.fit(df_auto)\n",
    "\n",
    "# combination of parameters with the best RMSE\n",
    "#print(gs.best_params['rmse'])\n",
    "#print(gs.best_score['rmse'])"
   ]
  },
  {
   "cell_type": "markdown",
   "id": "a0be2668",
   "metadata": {},
   "source": [
    "### SVD++ Param Grid\n",
    "\n",
    "Note: this is commented out to be able to run the whole notebook without taking too much time"
   ]
  },
  {
   "cell_type": "code",
   "execution_count": 23,
   "id": "814c9f03",
   "metadata": {},
   "outputs": [],
   "source": [
    "# df_auto = Dataset.load_from_df(train, reader)\n",
    "\n",
    "# param_grid = {'n_factors': [50,100,200,250], \n",
    "#               'n_epochs':[20,100,120,150,200,250], \n",
    "#               'lr_all':[0.005,0.01],\n",
    "#               'reg_all':[0.1,0.2,0.5]}\n",
    "\n",
    "# gs = GridSearchCV(SVDpp, param_grid, measures=['rmse'], cv=3, refit=True)\n",
    "\n",
    "# gs.fit(df_auto)\n",
    "\n",
    "# # combination of parameters with the best RMSE\n",
    "# print(gs.best_params['rmse'])\n",
    "# print(gs.best_score['rmse'])"
   ]
  },
  {
   "cell_type": "markdown",
   "id": "aee0469a",
   "metadata": {},
   "source": [
    "### ALS Param Grid"
   ]
  },
  {
   "cell_type": "code",
   "execution_count": 24,
   "id": "ee31b272",
   "metadata": {
    "scrolled": true
   },
   "outputs": [
    {
     "name": "stdout",
     "output_type": "stream",
     "text": [
      "Estimating biases using als...\n",
      "Estimating biases using als...\n",
      "Estimating biases using als...\n",
      "Estimating biases using als...\n",
      "Estimating biases using als...\n",
      "Estimating biases using als...\n",
      "Estimating biases using als...\n",
      "Estimating biases using als...\n",
      "Estimating biases using als...\n",
      "Estimating biases using als...\n",
      "Estimating biases using als...\n",
      "Estimating biases using als...\n",
      "Estimating biases using als...\n",
      "Estimating biases using als...\n",
      "Estimating biases using als...\n",
      "Estimating biases using als...\n",
      "Estimating biases using als...\n",
      "Estimating biases using als...\n",
      "Estimating biases using als...\n",
      "Estimating biases using als...\n",
      "Estimating biases using als...\n",
      "Estimating biases using als...\n",
      "Estimating biases using als...\n",
      "Estimating biases using als...\n",
      "Estimating biases using als...\n",
      "Estimating biases using als...\n",
      "Estimating biases using als...\n",
      "Estimating biases using als...\n",
      "Estimating biases using als...\n",
      "Estimating biases using als...\n",
      "Estimating biases using als...\n",
      "Estimating biases using als...\n",
      "Estimating biases using als...\n",
      "Estimating biases using als...\n",
      "Estimating biases using als...\n",
      "Estimating biases using als...\n",
      "Estimating biases using als...\n",
      "Estimating biases using als...\n",
      "Estimating biases using als...\n",
      "Estimating biases using als...\n",
      "Estimating biases using als...\n",
      "Estimating biases using als...\n",
      "Estimating biases using als...\n",
      "Estimating biases using als...\n",
      "Estimating biases using als...\n",
      "Estimating biases using als...\n",
      "Estimating biases using als...\n",
      "Estimating biases using als...\n",
      "Estimating biases using als...\n",
      "Estimating biases using als...\n",
      "Estimating biases using als...\n",
      "Estimating biases using als...\n",
      "Estimating biases using als...\n",
      "Estimating biases using als...\n",
      "Estimating biases using als...\n",
      "Estimating biases using als...\n",
      "Estimating biases using als...\n",
      "Estimating biases using als...\n",
      "Estimating biases using als...\n",
      "Estimating biases using als...\n",
      "Estimating biases using als...\n",
      "Estimating biases using als...\n",
      "Estimating biases using als...\n",
      "Estimating biases using als...\n",
      "Estimating biases using als...\n",
      "Estimating biases using als...\n",
      "Estimating biases using als...\n",
      "Estimating biases using als...\n",
      "Estimating biases using als...\n",
      "Estimating biases using als...\n",
      "Estimating biases using als...\n",
      "Estimating biases using als...\n",
      "Estimating biases using als...\n",
      "Estimating biases using als...\n",
      "Estimating biases using als...\n",
      "Estimating biases using als...\n",
      "Estimating biases using als...\n",
      "Estimating biases using als...\n",
      "Estimating biases using als...\n",
      "Estimating biases using als...\n",
      "Estimating biases using als...\n",
      "{'bsl_options': {'n_epochs': 30, 'reg_u': 7, 'reg_i': 13}}\n",
      "1.0877558778343779\n"
     ]
    }
   ],
   "source": [
    "#als_data = Dataset.load_from_df(train, reader)\n",
    "\n",
    "#param_grid = {'bsl_options': {'n_epochs':[30,50, 70],\n",
    "#                              'reg_u':[7, 10, 15],\n",
    "#                              'reg_i':[10, 13, 20]}}\n",
    "\n",
    "#gs = GridSearchCV(BaselineOnly, param_grid, measures=['rmse'], cv=3)\n",
    "\n",
    "#gs.fit(als_data)\n",
    "\n",
    "#print(gs.best_params['rmse'])\n",
    "#print(gs.best_score['rmse'])"
   ]
  },
  {
   "cell_type": "markdown",
   "id": "35b1a370",
   "metadata": {},
   "source": [
    "## Final Model\n",
    "\n",
    "Running parameter grid is a trial and error. Here we ran several times with different parameters while adjusting/adding/removing new parameters. Basically, we run predictions on our dataset with all of our different results for SVD, SVDpp, and ALS to upload it to Kaggle.\n",
    "\n",
    "It is tricky because we get good RMSE in the jupyter notebook but a much higher one in kaggle(or viceversa). You may never know the real result until you submit your prediction to Kaggle. Thus, we made several submissions to find the best parameters. "
   ]
  },
  {
   "cell_type": "markdown",
   "id": "f7f8126c",
   "metadata": {},
   "source": [
    "After several runs, we find the following SVDpp model as the best one:"
   ]
  },
  {
   "cell_type": "code",
   "execution_count": 31,
   "id": "a895ccb2",
   "metadata": {},
   "outputs": [
    {
     "name": "stdout",
     "output_type": "stream",
     "text": [
      "RMSE: 1.0656\n",
      "Impossible: 0.0000\n"
     ]
    }
   ],
   "source": [
    "svd = SVDpp(n_factors=200 ,\n",
    "         n_epochs = 100, \n",
    "         lr_all = 0.01, \n",
    "         reg_all = 0.1,  \n",
    "         random_state=42)\n",
    "\n",
    "# fit on training set\n",
    "svd.fit(df_train)\n",
    "\n",
    "# predict\n",
    "svd_pred = svd.test(df_test)\n",
    "accuracy.rmse(svd_pred)\n",
    "\n",
    "# impossible predictions\n",
    "perc_impossible = np.sum([1 for i in svd_pred if i.details[\"was_impossible\"]]) / len(svd_pred)\n",
    "print(f\"Impossible: {perc_impossible:.4f}\")"
   ]
  },
  {
   "cell_type": "markdown",
   "id": "e0119838",
   "metadata": {},
   "source": [
    "We had a RMSE of 1.0656 but in kaggle it was 1.012 (and it may still change once its fitted in the full data)."
   ]
  },
  {
   "cell_type": "markdown",
   "id": "7d84eb0b",
   "metadata": {},
   "source": [
    "### Predict on Test set\n",
    "\n",
    "Finally, we implement our prediction on the test set and prepare to export our file:"
   ]
  },
  {
   "cell_type": "code",
   "execution_count": 32,
   "id": "3a98ed4f",
   "metadata": {},
   "outputs": [],
   "source": [
    "#Load data\n",
    "test_students = pd.read_csv(wd+'data/raw/test_students.csv')\n",
    "\n",
    "#format table to export\n",
    "test_students = test_students[['userID','asin']]\n",
    "test_students['overall'] = 0\n",
    "\n",
    "#cast to tuple\n",
    "test_students = test_students.to_records(index=False)"
   ]
  },
  {
   "cell_type": "code",
   "execution_count": 33,
   "id": "bbe90a38",
   "metadata": {},
   "outputs": [
    {
     "data": {
      "text/html": [
       "<div>\n",
       "<style scoped>\n",
       "    .dataframe tbody tr th:only-of-type {\n",
       "        vertical-align: middle;\n",
       "    }\n",
       "\n",
       "    .dataframe tbody tr th {\n",
       "        vertical-align: top;\n",
       "    }\n",
       "\n",
       "    .dataframe thead th {\n",
       "        text-align: right;\n",
       "    }\n",
       "</style>\n",
       "<table border=\"1\" class=\"dataframe\">\n",
       "  <thead>\n",
       "    <tr style=\"text-align: right;\">\n",
       "      <th></th>\n",
       "      <th>ID</th>\n",
       "      <th>overall</th>\n",
       "    </tr>\n",
       "  </thead>\n",
       "  <tbody>\n",
       "    <tr>\n",
       "      <th>0</th>\n",
       "      <td>21069B00BFK2B24</td>\n",
       "      <td>3.539585</td>\n",
       "    </tr>\n",
       "    <tr>\n",
       "      <th>1</th>\n",
       "      <td>3506B00ZK0Y7R2</td>\n",
       "      <td>3.816846</td>\n",
       "    </tr>\n",
       "    <tr>\n",
       "      <th>2</th>\n",
       "      <td>21907B0002AQPA2</td>\n",
       "      <td>3.947712</td>\n",
       "    </tr>\n",
       "    <tr>\n",
       "      <th>3</th>\n",
       "      <td>14092B0002DHXX2</td>\n",
       "      <td>4.544069</td>\n",
       "    </tr>\n",
       "    <tr>\n",
       "      <th>4</th>\n",
       "      <td>3085B0006VB3SQ</td>\n",
       "      <td>4.415539</td>\n",
       "    </tr>\n",
       "  </tbody>\n",
       "</table>\n",
       "</div>"
      ],
      "text/plain": [
       "                ID   overall\n",
       "0  21069B00BFK2B24  3.539585\n",
       "1   3506B00ZK0Y7R2  3.816846\n",
       "2  21907B0002AQPA2  3.947712\n",
       "3  14092B0002DHXX2  4.544069\n",
       "4   3085B0006VB3SQ  4.415539"
      ]
     },
     "execution_count": 33,
     "metadata": {},
     "output_type": "execute_result"
    }
   ],
   "source": [
    "#predict on test set\n",
    "result = svd.test(test_students)\n",
    "\n",
    "#Create Dataframe\n",
    "result = pd.DataFrame(result)\n",
    "\n",
    "#Clean Column names and format\n",
    "result['ID']= result['uid'].astype(str)+result['iid'].astype(str)\n",
    "result = result[['ID','est']]\n",
    "result = result.rename(columns={\"est\": \"overall\"})\n",
    "\n",
    "result.head()"
   ]
  },
  {
   "cell_type": "code",
   "execution_count": 35,
   "id": "5f9a5c68",
   "metadata": {},
   "outputs": [],
   "source": [
    "#Export to csv\n",
    "result.to_csv(wd+'data/final/submission_14.csv', index=False)"
   ]
  },
  {
   "cell_type": "markdown",
   "id": "7093b895",
   "metadata": {},
   "source": [
    "## Conclusion "
   ]
  },
  {
   "cell_type": "markdown",
   "id": "80faf87a",
   "metadata": {},
   "source": [
    "Running Recommendation systems for this project was a lot of trial-error. Right from the start, I decided to work with collaborative filtering because I was getting good results in comparisson with the kaggle benchmark. Thus, running param grids to improve my score was the best solution. \n",
    "\n",
    "However, it was not that easy. Param Grid can take up to 24 hours or more depending on how many parameters you are running and how large is your data. Thus, making tests and trying out different parameters took several days until i finally found the right one that improved my model. \n",
    "\n",
    "Also, i noticed that by resetting the whole notebook and re-doing the train/test split could change my scores drastically given that it is always a random split. \n",
    "\n",
    "Moreover, as further steps for this project I could run a content-based model and a hybrid model in order to compare their performance versus the collaborative filtering."
   ]
  }
 ],
 "metadata": {
  "kernelspec": {
   "display_name": "Python 3",
   "language": "python",
   "name": "python3"
  },
  "language_info": {
   "codemirror_mode": {
    "name": "ipython",
    "version": 3
   },
   "file_extension": ".py",
   "mimetype": "text/x-python",
   "name": "python",
   "nbconvert_exporter": "python",
   "pygments_lexer": "ipython3",
   "version": "3.9.4"
  }
 },
 "nbformat": 4,
 "nbformat_minor": 5
}
